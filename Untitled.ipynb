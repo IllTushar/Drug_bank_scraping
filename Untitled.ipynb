{
 "cells": [
  {
   "cell_type": "code",
   "execution_count": 1,
   "id": "91ab85fc-59da-4d27-93f2-e5d53bf35010",
   "metadata": {},
   "outputs": [],
   "source": [
    "from Levenshtein import distance\n",
    "import pandas as pd"
   ]
  },
  {
   "cell_type": "code",
   "execution_count": null,
   "id": "a2aebfe5-485c-4871-b8f8-6ce7cb41bd00",
   "metadata": {},
   "outputs": [],
   "source": [
    "def find_salt_code(salt_code_clean=r'C:\\Users\\gtush\\Desktop\\csv_folder\\Salt_Code_Cleaner.csv.csv', match_drug_code_file, desired_similarity=60.0):\n",
    "    salt_code_clean_csv = pd.read_csv(salt_code_clean)\n",
    "    match_drug_code_csv = pd.read_csv(match_drug_code_file)\n",
    "\n",
    "    name_salt_code_clean = salt_code_clean_csv[['name', 'generic_name']]\n",
    "    drug_name_drug_code = match_drug_code_csv[['drug_name', 'generic_name', 'salt_code']]\n",
    "\n",
    "    list_name_not_null = []\n",
    "    results = []\n",
    "\n",
    "    for idx, row in name_salt_code_clean.iterrows():\n",
    "        drug_name = row['name']\n",
    "        drug_generic_name = row['generic_name']\n",
    "        if not pd.isnull(drug_generic_name):\n",
    "            list_name_not_null.append(drug_name)\n",
    "\n",
    "    generic_names = list(zip(name_salt_code_clean['name'], name_salt_code_clean['generic_name']))\n",
    "\n",
    "    for drug_name in list_name_not_null:\n",
    "        if not drug_name:\n",
    "            continue\n",
    "\n",
    "        most_similar_generic_name = None\n",
    "        most_similar_salt_code = None\n",
    "        highest_similarity = 0.0\n",
    "        best_levenshtein_distance = None\n",
    "\n",
    "        for generic_name, salt_code in generic_names:\n",
    "            combined_name = generic_name if not salt_code else f\"{generic_name} {salt_code}\"\n",
    "\n",
    "            levenshtein_distance = distance(drug_name, combined_name)\n",
    "            similarity_percentage = (\n",
    "                                            1 - (levenshtein_distance / max(len(drug_name), len(combined_name)))\n",
    "                                    ) * 100\n",
    "\n",
    "            if similarity_percentage > highest_similarity:\n",
    "                most_similar_generic_name = generic_name\n",
    "                most_similar_salt_code = salt_code\n",
    "                highest_similarity = similarity_percentage\n",
    "                best_levenshtein_distance = levenshtein_distance\n",
    "\n",
    "        if highest_similarity >= desired_similarity:\n",
    "            result = {\n",
    "                \"drug_name\": drug_name,\n",
    "                \"generic_name\": most_similar_generic_name,\n",
    "                \"salt_code\": most_similar_salt_code,\n",
    "                \"levenshtein_distance\": best_levenshtein_distance if most_similar_generic_name else None,\n",
    "                \"similarity_percentage\": highest_similarity\n",
    "            }\n",
    "            results.append(result)\n",
    "\n",
    "    data_set = pd.DataFrame(results)\n",
    "    print(data_set)\n"
   ]
  },
  {
   "cell_type": "code",
   "execution_count": null,
   "id": "277407ee-fc47-4b1c-9ea7-69a36e5835cb",
   "metadata": {},
   "outputs": [],
   "source": []
  },
  {
   "cell_type": "raw",
   "id": "658dcbd8-247e-43f8-a7a9-efd686128198",
   "metadata": {},
   "source": []
  },
  {
   "cell_type": "code",
   "execution_count": null,
   "id": "01783ec8-eb70-47ae-9291-739790b32d1b",
   "metadata": {},
   "outputs": [],
   "source": []
  }
 ],
 "metadata": {
  "kernelspec": {
   "display_name": "Python 3 (ipykernel)",
   "language": "python",
   "name": "python3"
  },
  "language_info": {
   "codemirror_mode": {
    "name": "ipython",
    "version": 3
   },
   "file_extension": ".py",
   "mimetype": "text/x-python",
   "name": "python",
   "nbconvert_exporter": "python",
   "pygments_lexer": "ipython3",
   "version": "3.12.3"
  }
 },
 "nbformat": 4,
 "nbformat_minor": 5
}
