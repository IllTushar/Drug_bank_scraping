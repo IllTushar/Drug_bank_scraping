{
 "cells": [
  {
   "cell_type": "code",
   "execution_count": null,
   "id": "fde545e6-38a9-4bd1-8650-1bd60b504735",
   "metadata": {},
   "outputs": [],
   "source": [
    "import pandas as pd\n",
    "from Levenshtein import distance"
   ]
  },
  {
   "cell_type": "code",
   "execution_count": null,
   "id": "a309a2de-5777-4afb-b11e-defbe9c2c0ba",
   "metadata": {},
   "outputs": [],
   "source": [
    "read_csv_salt_code= pd.read_csv(r'C:\\Users\\gtush\\Desktop\\SayaCsv\\Salt_Code_Cleaner.csv.csv')\n",
    "read_csv_match_drug_code = pd.read_csv(r'C:\\Users\\gtush\\Desktop\\csv_folder\\match_drug_file.csv')"
   ]
  },
  {
   "cell_type": "code",
   "execution_count": null,
   "id": "26d8934f-66df-4aca-9d87-304f8b2b8c5e",
   "metadata": {},
   "outputs": [],
   "source": [
    "print(read_csv_salt_code.columns)"
   ]
  },
  {
   "cell_type": "code",
   "execution_count": null,
   "id": "ade52390-750f-4b23-9e96-b7ee9518adc0",
   "metadata": {},
   "outputs": [],
   "source": [
    "print(read_csv_match_drug_code.columns)"
   ]
  },
  {
   "cell_type": "code",
   "execution_count": null,
   "id": "668805e4-646a-480d-928d-1d2414716ed4",
   "metadata": {},
   "outputs": [],
   "source": [
    "list_of_levin_key_pair = []"
   ]
  },
  {
   "cell_type": "code",
   "execution_count": null,
   "id": "4d489dbd-eca0-4e20-bd31-16ccb1c046d1",
   "metadata": {},
   "outputs": [],
   "source": [
    "# Iterate through each drug name in the 'drug_name' column\n",
    "for row1 in read_csv_match_drug_code['drug_name']:\n",
    "    # Iterate through each salt name and its corresponding salt code in the 'name' and 'salt_code' columns\n",
    "    for index, row2 in read_csv_salt_code.iterrows():\n",
    "        salt_name = row2['name']\n",
    "        salt_code = row2['salt_code']\n",
    "        \n",
    "        # Calculate Levenshtein distance\n",
    "        levien_distance = distance(row1, salt_name)\n",
    "        levien_percentage = (1 - (levien_distance / max(len(row1), len(salt_name)))) * 100\n",
    "        \n",
    "        # Check if the Levenshtein percentage is greater than or equal to 60\n",
    "        if levien_percentage >= 60:\n",
    "            # Create a dictionary with the salt name and salt code\n",
    "            salt_dict = {salt_name: salt_code}\n",
    "            # Append the dictionary to the list\n",
    "            list_of_levin_key_pair.append(salt_dict)"
   ]
  },
  {
   "cell_type": "code",
   "execution_count": null,
   "id": "42266c8f-a870-48df-8909-72b00310d42c",
   "metadata": {},
   "outputs": [],
   "source": [
    "print(len(list_of_levin_key_pair))"
   ]
  },
  {
   "cell_type": "code",
   "execution_count": null,
   "id": "b1cd0558-5986-4982-8d23-30e45aa723cf",
   "metadata": {},
   "outputs": [],
   "source": []
  }
 ],
 "metadata": {
  "kernelspec": {
   "display_name": "Python 3 (ipykernel)",
   "language": "python",
   "name": "python3"
  },
  "language_info": {
   "codemirror_mode": {
    "name": "ipython",
    "version": 3
   },
   "file_extension": ".py",
   "mimetype": "text/x-python",
   "name": "python",
   "nbconvert_exporter": "python",
   "pygments_lexer": "ipython3",
   "version": "3.12.3"
  }
 },
 "nbformat": 4,
 "nbformat_minor": 5
}
