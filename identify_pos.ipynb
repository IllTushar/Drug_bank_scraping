{
 "cells": [
  {
   "cell_type": "code",
   "execution_count": 1,
   "metadata": {},
   "outputs": [],
   "source": [
    "import pandas as pd\n",
    "import spacy\n",
    "from datetime import datetime"
   ]
  },
  {
   "cell_type": "code",
   "execution_count": 2,
   "metadata": {},
   "outputs": [],
   "source": [
    "def extract_stop_words_and_pos(text, stop_words):\n",
    "    doc = nlp(text)\n",
    "    stop_words_in_text = [token.text for token in doc if token.text.lower() in stop_words]\n",
    "    pos_tags = [f\"{token.text}->{token.pos_}\" for token in doc if\n",
    "                token.text.lower() not in stop_words and token.pos_ not in [\"SPACE\", \"PUNCT\"]]\n",
    "    return \" \".join(stop_words_in_text), \" \".join(pos_tags)"
   ]
  },
  {
   "cell_type": "code",
   "execution_count": 3,
   "metadata": {},
   "outputs": [],
   "source": [
    "# Read the CSV file\n",
    "read_csv_file = pd.read_csv(r\"C:\\Users\\gtush\\Desktop\\Splits_sets\\filtered_interaction.csv\").head(n=10)"
   ]
  },
  {
   "cell_type": "code",
   "execution_count": 4,
   "metadata": {},
   "outputs": [
    {
     "name": "stdout",
     "output_type": "stream",
     "text": [
      "Start time: 14 :: 02 min::39 seconds\n"
     ]
    }
   ],
   "source": [
    "print(f'Start time: {datetime.now().strftime(\"%H :: %M min::%S seconds\")}')"
   ]
  },
  {
   "cell_type": "code",
   "execution_count": 5,
   "metadata": {},
   "outputs": [],
   "source": [
    " # Load the spaCy model\n",
    "nlp = spacy.load(\"en_core_web_sm\")"
   ]
  },
  {
   "cell_type": "code",
   "execution_count": 6,
   "metadata": {},
   "outputs": [],
   "source": [
    "stop_words = nlp.Defaults.stop_words"
   ]
  },
  {
   "cell_type": "code",
   "execution_count": 7,
   "metadata": {},
   "outputs": [],
   "source": [
    "# Process each sentence in the 'Filter DrugName' column\n",
    "extracted_data = read_csv_file['Filter DrugName'].apply(lambda x: extract_stop_words_and_pos(str(x), stop_words))"
   ]
  },
  {
   "cell_type": "code",
   "execution_count": 8,
   "metadata": {},
   "outputs": [],
   "source": [
    "stop_word_list, pos_tag_list = zip(*extracted_data)"
   ]
  },
  {
   "cell_type": "code",
   "execution_count": 9,
   "metadata": {},
   "outputs": [],
   "source": [
    "final_stop_word_set = {word for stop_words in stop_word_list for word in stop_words.split() if word}"
   ]
  },
  {
   "cell_type": "code",
   "execution_count": 10,
   "metadata": {},
   "outputs": [],
   "source": [
    "final_pos_tag_set = {tag for pos_tags in pos_tag_list for tag in pos_tags.split() if tag}"
   ]
  },
  {
   "cell_type": "code",
   "execution_count": 11,
   "metadata": {},
   "outputs": [],
   "source": [
    "# Create lists to hold the stop words and POS tags with their labels\n",
    "combined_list = list(final_stop_word_set) + [tag.split('->')[0] for tag in final_pos_tag_set]"
   ]
  },
  {
   "cell_type": "code",
   "execution_count": 12,
   "metadata": {},
   "outputs": [],
   "source": [
    "labels_list = [\"stop_words\"] * len(final_stop_word_set) + [f\"{tag.split('->')[1]}->POS\" for tag in final_pos_tag_set]"
   ]
  },
  {
   "cell_type": "code",
   "execution_count": 13,
   "metadata": {},
   "outputs": [],
   "source": [
    "# Create DataFrame with the results\n",
    "data_frame1 = pd.DataFrame({\n",
    "        \"stop_words/POS\": combined_list,\n",
    "        \"SW/POS\": labels_list\n",
    "    })"
   ]
  },
  {
   "cell_type": "code",
   "execution_count": 14,
   "metadata": {},
   "outputs": [
    {
     "name": "stdout",
     "output_type": "stream",
     "text": [
      "End time: 13 :: 25 min::34 seconds\n"
     ]
    }
   ],
   "source": [
    "# Write the results to a new CSV file\n",
    "data_frame1.to_csv(r'C:\\Users\\gtush\\Desktop\\Splits_sets\\combined_filtered_interaction_processed1.csv', index=False)\n",
    "print(f'End time: {datetime.now().strftime(\"%H :: %M min::%S seconds\")}')"
   ]
  },
  {
   "cell_type": "code",
   "execution_count": null,
   "metadata": {},
   "outputs": [],
   "source": []
  }
 ],
 "metadata": {
  "kernelspec": {
   "display_name": "Python 3 (ipykernel)",
   "language": "python",
   "name": "python3"
  },
  "language_info": {
   "codemirror_mode": {
    "name": "ipython",
    "version": 3
   },
   "file_extension": ".py",
   "mimetype": "text/x-python",
   "name": "python",
   "nbconvert_exporter": "python",
   "pygments_lexer": "ipython3",
   "version": "3.12.3"
  }
 },
 "nbformat": 4,
 "nbformat_minor": 4
}
