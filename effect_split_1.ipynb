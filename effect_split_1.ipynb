{
 "cells": [
  {
   "cell_type": "code",
   "execution_count": 1,
   "id": "337d03c1-c4da-4935-865d-c59c07ede8d2",
   "metadata": {},
   "outputs": [],
   "source": [
    "import pandas as pd"
   ]
  },
  {
   "cell_type": "code",
   "execution_count": 2,
   "id": "f40f027a-5404-49c5-93fb-fe022878f979",
   "metadata": {},
   "outputs": [],
   "source": [
    "read_csv_file = pd.read_csv(r'C:\\Users\\gtush\\Desktop\\SayaCsv\\effect_split1.csv')"
   ]
  },
  {
   "cell_type": "code",
   "execution_count": 3,
   "id": "bea396cd-2024-4e96-8ce1-a3954804e143",
   "metadata": {},
   "outputs": [
    {
     "name": "stdout",
     "output_type": "stream",
     "text": [
      "Index(['Unnamed: 0', 'Drug', 'Interaction', 'URL', 'Base Drug',\n",
      "       'Filtered Interaction', 'Effect Type', 'effect', 'base_drug'],\n",
      "      dtype='object')\n"
     ]
    }
   ],
   "source": [
    "print(read_csv_file.columns)"
   ]
  },
  {
   "cell_type": "code",
   "execution_count": 4,
   "id": "4ebab60e-fd03-4309-a79d-7bb2d50b63a2",
   "metadata": {},
   "outputs": [],
   "source": [
    "store_index = []"
   ]
  },
  {
   "cell_type": "code",
   "execution_count": 5,
   "id": "bf23a8bb-0433-4a53-b191-60949f69e639",
   "metadata": {},
   "outputs": [],
   "source": [
    "for idx , row in read_csv_file.iterrows():\n",
    "    # Check if the 'effect' column value is NaN (missing)\n",
    "    if pd.isna(row['effect']):\n",
    "        # Append the index to the list\n",
    "        store_index.append(row['Interaction'])"
   ]
  },
  {
   "cell_type": "code",
   "execution_count": 6,
   "id": "0e7e38f6-8ae8-4f96-9e93-3e22b272f6e6",
   "metadata": {},
   "outputs": [
    {
     "name": "stderr",
     "output_type": "stream",
     "text": [
      "IOPub data rate exceeded.\n",
      "The Jupyter server will temporarily stop sending output\n",
      "to the client in order to avoid crashing it.\n",
      "To change this limit, set the config variable\n",
      "`--ServerApp.iopub_data_rate_limit`.\n",
      "\n",
      "Current values:\n",
      "ServerApp.iopub_data_rate_limit=1000000.0 (bytes/sec)\n",
      "ServerApp.rate_limit_window=3.0 (secs)\n",
      "\n"
     ]
    }
   ],
   "source": [
    "print(store_index)"
   ]
  },
  {
   "cell_type": "code",
   "execution_count": null,
   "id": "6803077a-853f-4c57-a471-b367b00a527c",
   "metadata": {},
   "outputs": [],
   "source": []
  }
 ],
 "metadata": {
  "kernelspec": {
   "display_name": "Python 3 (ipykernel)",
   "language": "python",
   "name": "python3"
  },
  "language_info": {
   "codemirror_mode": {
    "name": "ipython",
    "version": 3
   },
   "file_extension": ".py",
   "mimetype": "text/x-python",
   "name": "python",
   "nbconvert_exporter": "python",
   "pygments_lexer": "ipython3",
   "version": "3.12.3"
  }
 },
 "nbformat": 4,
 "nbformat_minor": 5
}
